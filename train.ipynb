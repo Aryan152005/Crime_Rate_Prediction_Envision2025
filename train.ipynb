{
 "cells": [
  {
   "cell_type": "code",
   "execution_count": 5,
   "metadata": {},
   "outputs": [],
   "source": [
    "import pandas as pd\n",
    "import matplotlib.pyplot as plt\n",
    "from sklearn.preprocessing import LabelEncoder\n",
    "from sklearn.model_selection import train_test_split\n",
    "from sklearn import svm\n",
    "from sklearn.neighbors import KNeighborsRegressor\n",
    "from sklearn import tree\n",
    "from sklearn.ensemble import RandomForestRegressor\n",
    "from sklearn.neural_network import MLPRegressor\n",
    "from sklearn import metrics"
   ]
  },
  {
   "cell_type": "code",
   "execution_count": 6,
   "metadata": {},
   "outputs": [],
   "source": [
    "new_dataset = pd.read_csv(\"Dataset/formated_new_dataset.csv\")"
   ]
  },
  {
   "cell_type": "code",
   "execution_count": 7,
   "metadata": {},
   "outputs": [
    {
     "data": {
      "text/html": [
       "<div>\n",
       "<style scoped>\n",
       "    .dataframe tbody tr th:only-of-type {\n",
       "        vertical-align: middle;\n",
       "    }\n",
       "\n",
       "    .dataframe tbody tr th {\n",
       "        vertical-align: top;\n",
       "    }\n",
       "\n",
       "    .dataframe thead th {\n",
       "        text-align: right;\n",
       "    }\n",
       "</style>\n",
       "<table border=\"1\" class=\"dataframe\">\n",
       "  <thead>\n",
       "    <tr style=\"text-align: right;\">\n",
       "      <th></th>\n",
       "      <th>Year</th>\n",
       "      <th>City</th>\n",
       "      <th>Population (in Lakhs) (2011)+</th>\n",
       "      <th>Type</th>\n",
       "      <th>Crime Rate</th>\n",
       "    </tr>\n",
       "  </thead>\n",
       "  <tbody>\n",
       "    <tr>\n",
       "      <th>0</th>\n",
       "      <td>2014</td>\n",
       "      <td>Ahmedabad</td>\n",
       "      <td>63.5</td>\n",
       "      <td>Murder</td>\n",
       "      <td>1.291339</td>\n",
       "    </tr>\n",
       "    <tr>\n",
       "      <th>1</th>\n",
       "      <td>2015</td>\n",
       "      <td>Ahmedabad</td>\n",
       "      <td>63.5</td>\n",
       "      <td>Murder</td>\n",
       "      <td>1.480315</td>\n",
       "    </tr>\n",
       "    <tr>\n",
       "      <th>2</th>\n",
       "      <td>2016</td>\n",
       "      <td>Ahmedabad</td>\n",
       "      <td>63.5</td>\n",
       "      <td>Murder</td>\n",
       "      <td>1.622047</td>\n",
       "    </tr>\n",
       "    <tr>\n",
       "      <th>3</th>\n",
       "      <td>2017</td>\n",
       "      <td>Ahmedabad</td>\n",
       "      <td>63.5</td>\n",
       "      <td>Murder</td>\n",
       "      <td>1.417323</td>\n",
       "    </tr>\n",
       "    <tr>\n",
       "      <th>4</th>\n",
       "      <td>2018</td>\n",
       "      <td>Ahmedabad</td>\n",
       "      <td>63.5</td>\n",
       "      <td>Murder</td>\n",
       "      <td>1.543307</td>\n",
       "    </tr>\n",
       "    <tr>\n",
       "      <th>...</th>\n",
       "      <td>...</td>\n",
       "      <td>...</td>\n",
       "      <td>...</td>\n",
       "      <td>...</td>\n",
       "      <td>...</td>\n",
       "    </tr>\n",
       "    <tr>\n",
       "      <th>1515</th>\n",
       "      <td>2017</td>\n",
       "      <td>Surat</td>\n",
       "      <td>45.8</td>\n",
       "      <td>Cyber Crimes</td>\n",
       "      <td>2.292576</td>\n",
       "    </tr>\n",
       "    <tr>\n",
       "      <th>1516</th>\n",
       "      <td>2018</td>\n",
       "      <td>Surat</td>\n",
       "      <td>45.8</td>\n",
       "      <td>Cyber Crimes</td>\n",
       "      <td>3.384279</td>\n",
       "    </tr>\n",
       "    <tr>\n",
       "      <th>1517</th>\n",
       "      <td>2019</td>\n",
       "      <td>Surat</td>\n",
       "      <td>45.8</td>\n",
       "      <td>Cyber Crimes</td>\n",
       "      <td>4.978166</td>\n",
       "    </tr>\n",
       "    <tr>\n",
       "      <th>1518</th>\n",
       "      <td>2020</td>\n",
       "      <td>Surat</td>\n",
       "      <td>45.8</td>\n",
       "      <td>Cyber Crimes</td>\n",
       "      <td>4.454148</td>\n",
       "    </tr>\n",
       "    <tr>\n",
       "      <th>1519</th>\n",
       "      <td>2021</td>\n",
       "      <td>Surat</td>\n",
       "      <td>45.8</td>\n",
       "      <td>Cyber Crimes</td>\n",
       "      <td>6.462882</td>\n",
       "    </tr>\n",
       "  </tbody>\n",
       "</table>\n",
       "<p>1520 rows × 5 columns</p>\n",
       "</div>"
      ],
      "text/plain": [
       "      Year       City  Population (in Lakhs) (2011)+          Type  Crime Rate\n",
       "0     2014  Ahmedabad                           63.5        Murder    1.291339\n",
       "1     2015  Ahmedabad                           63.5        Murder    1.480315\n",
       "2     2016  Ahmedabad                           63.5        Murder    1.622047\n",
       "3     2017  Ahmedabad                           63.5        Murder    1.417323\n",
       "4     2018  Ahmedabad                           63.5        Murder    1.543307\n",
       "...    ...        ...                            ...           ...         ...\n",
       "1515  2017      Surat                           45.8  Cyber Crimes    2.292576\n",
       "1516  2018      Surat                           45.8  Cyber Crimes    3.384279\n",
       "1517  2019      Surat                           45.8  Cyber Crimes    4.978166\n",
       "1518  2020      Surat                           45.8  Cyber Crimes    4.454148\n",
       "1519  2021      Surat                           45.8  Cyber Crimes    6.462882\n",
       "\n",
       "[1520 rows x 5 columns]"
      ]
     },
     "execution_count": 7,
     "metadata": {},
     "output_type": "execute_result"
    }
   ],
   "source": [
    "new_dataset"
   ]
  },
  {
   "cell_type": "code",
   "execution_count": 8,
   "metadata": {},
   "outputs": [
    {
     "name": "stdout",
     "output_type": "stream",
     "text": [
      "<class 'pandas.core.frame.DataFrame'>\n",
      "RangeIndex: 1520 entries, 0 to 1519\n",
      "Data columns (total 5 columns):\n",
      " #   Column                         Non-Null Count  Dtype  \n",
      "---  ------                         --------------  -----  \n",
      " 0   Year                           1520 non-null   int64  \n",
      " 1   City                           1520 non-null   object \n",
      " 2   Population (in Lakhs) (2011)+  1520 non-null   float64\n",
      " 3   Type                           1520 non-null   object \n",
      " 4   Crime Rate                     1520 non-null   float64\n",
      "dtypes: float64(2), int64(1), object(2)\n",
      "memory usage: 59.5+ KB\n"
     ]
    }
   ],
   "source": [
    "# Inspect the structure and summary statistics of the new dataset.\n",
    "new_dataset.info()"
   ]
  },
  {
   "cell_type": "code",
   "execution_count": 9,
   "metadata": {},
   "outputs": [
    {
     "data": {
      "text/html": [
       "<div>\n",
       "<style scoped>\n",
       "    .dataframe tbody tr th:only-of-type {\n",
       "        vertical-align: middle;\n",
       "    }\n",
       "\n",
       "    .dataframe tbody tr th {\n",
       "        vertical-align: top;\n",
       "    }\n",
       "\n",
       "    .dataframe thead th {\n",
       "        text-align: right;\n",
       "    }\n",
       "</style>\n",
       "<table border=\"1\" class=\"dataframe\">\n",
       "  <thead>\n",
       "    <tr style=\"text-align: right;\">\n",
       "      <th></th>\n",
       "      <th>Year</th>\n",
       "      <th>Population (in Lakhs) (2011)+</th>\n",
       "      <th>Crime Rate</th>\n",
       "    </tr>\n",
       "  </thead>\n",
       "  <tbody>\n",
       "    <tr>\n",
       "      <th>count</th>\n",
       "      <td>1520.000000</td>\n",
       "      <td>1520.000000</td>\n",
       "      <td>1520.000000</td>\n",
       "    </tr>\n",
       "    <tr>\n",
       "      <th>mean</th>\n",
       "      <td>2017.500000</td>\n",
       "      <td>60.015789</td>\n",
       "      <td>11.581238</td>\n",
       "    </tr>\n",
       "    <tr>\n",
       "      <th>std</th>\n",
       "      <td>2.292042</td>\n",
       "      <td>50.006465</td>\n",
       "      <td>19.529756</td>\n",
       "    </tr>\n",
       "    <tr>\n",
       "      <th>min</th>\n",
       "      <td>2014.000000</td>\n",
       "      <td>20.300000</td>\n",
       "      <td>0.000000</td>\n",
       "    </tr>\n",
       "    <tr>\n",
       "      <th>25%</th>\n",
       "      <td>2015.750000</td>\n",
       "      <td>21.700000</td>\n",
       "      <td>0.943396</td>\n",
       "    </tr>\n",
       "    <tr>\n",
       "      <th>50%</th>\n",
       "      <td>2017.500000</td>\n",
       "      <td>30.700000</td>\n",
       "      <td>4.065514</td>\n",
       "    </tr>\n",
       "    <tr>\n",
       "      <th>75%</th>\n",
       "      <td>2019.250000</td>\n",
       "      <td>85.000000</td>\n",
       "      <td>14.486662</td>\n",
       "    </tr>\n",
       "    <tr>\n",
       "      <th>max</th>\n",
       "      <td>2021.000000</td>\n",
       "      <td>184.100000</td>\n",
       "      <td>198.925081</td>\n",
       "    </tr>\n",
       "  </tbody>\n",
       "</table>\n",
       "</div>"
      ],
      "text/plain": [
       "              Year  Population (in Lakhs) (2011)+   Crime Rate\n",
       "count  1520.000000                    1520.000000  1520.000000\n",
       "mean   2017.500000                      60.015789    11.581238\n",
       "std       2.292042                      50.006465    19.529756\n",
       "min    2014.000000                      20.300000     0.000000\n",
       "25%    2015.750000                      21.700000     0.943396\n",
       "50%    2017.500000                      30.700000     4.065514\n",
       "75%    2019.250000                      85.000000    14.486662\n",
       "max    2021.000000                     184.100000   198.925081"
      ]
     },
     "execution_count": 9,
     "metadata": {},
     "output_type": "execute_result"
    }
   ],
   "source": [
    "new_dataset.describe()"
   ]
  },
  {
   "cell_type": "markdown",
   "metadata": {},
   "source": [
    "## Encoding Categorical Variables\n",
    "\n",
    "- Why: Machine learning models require numerical data, so categorical variables must be encoded.\n",
    "- What: Convert `City` and `Type` columns to numeric values using LabelEncoder.\n",
    "- How: Fit and transform the data using LabelEncoder and save mappings for interpretation."
   ]
  },
  {
   "cell_type": "code",
   "execution_count": 10,
   "metadata": {},
   "outputs": [],
   "source": [
    "le = LabelEncoder()"
   ]
  },
  {
   "cell_type": "code",
   "execution_count": 11,
   "metadata": {},
   "outputs": [],
   "source": [
    "# Encode the City column.\n",
    "new_dataset['City'] = le.fit_transform(new_dataset['City'])\n",
    "mapping = dict(zip(le.classes_, range(len(le.classes_))))"
   ]
  },
  {
   "cell_type": "code",
   "execution_count": 12,
   "metadata": {},
   "outputs": [
    {
     "name": "stdout",
     "output_type": "stream",
     "text": [
      "Ahmedabad - 0\n",
      "\n",
      "Bengaluru - 1\n",
      "\n",
      "Chennai - 2\n",
      "\n",
      "Coimbatore - 3\n",
      "\n",
      "Delhi - 4\n",
      "\n",
      "Ghaziabad - 5\n",
      "\n",
      "Hyderabad - 6\n",
      "\n",
      "Indore - 7\n",
      "\n",
      "Jaipur - 8\n",
      "\n",
      "Kanpur - 9\n",
      "\n",
      "Kochi - 10\n",
      "\n",
      "Kolkata - 11\n",
      "\n",
      "Kozhikode - 12\n",
      "\n",
      "Lucknow - 13\n",
      "\n",
      "Mumbai - 14\n",
      "\n",
      "Nagpur - 15\n",
      "\n",
      "Patna - 16\n",
      "\n",
      "Pune - 17\n",
      "\n",
      "Surat - 18\n",
      "\n"
     ]
    }
   ],
   "source": [
    "# Saving the mapping file for further use\n",
    "file = open('Mappings/City_Mapping.txt', 'wt')\n",
    "for key,val in mapping.items():\n",
    "    print(str(key) + \" - \" + str(val) + '\\n')\n",
    "    file.write(str(key) + \" - \" + str(val) + '\\n')"
   ]
  },
  {
   "cell_type": "code",
   "execution_count": 13,
   "metadata": {},
   "outputs": [],
   "source": [
    "# Encode the Type column.\n",
    "new_dataset['Type'] = le.fit_transform(new_dataset['Type'])\n",
    "mapping = dict(zip(le.classes_, range(len(le.classes_))))"
   ]
  },
  {
   "cell_type": "code",
   "execution_count": 14,
   "metadata": {},
   "outputs": [
    {
     "name": "stdout",
     "output_type": "stream",
     "text": [
      "Crime Committed by Juveniles - 0\n",
      "\n",
      "Crime against SC - 1\n",
      "\n",
      "Crime against ST - 2\n",
      "\n",
      "Crime against Senior Citizen - 3\n",
      "\n",
      "Crime against children - 4\n",
      "\n",
      "Crime against women - 5\n",
      "\n",
      "Cyber Crimes - 6\n",
      "\n",
      "Economic Offences - 7\n",
      "\n",
      "Kidnapping - 8\n",
      "\n",
      "Murder - 9\n",
      "\n"
     ]
    }
   ],
   "source": [
    "# Save the mapping for crime types.\n",
    "\n",
    "file = open('Mappings/Type_Mapping.txt', 'wt')\n",
    "for key,val in mapping.items():\n",
    "    print(str(key) + \" - \" + str(val) + '\\n')\n",
    "    file.write(str(key) + \" - \" + str(val) + '\\n')"
   ]
  },
  {
   "cell_type": "code",
   "execution_count": 15,
   "metadata": {},
   "outputs": [
    {
     "data": {
      "text/html": [
       "<div>\n",
       "<style scoped>\n",
       "    .dataframe tbody tr th:only-of-type {\n",
       "        vertical-align: middle;\n",
       "    }\n",
       "\n",
       "    .dataframe tbody tr th {\n",
       "        vertical-align: top;\n",
       "    }\n",
       "\n",
       "    .dataframe thead th {\n",
       "        text-align: right;\n",
       "    }\n",
       "</style>\n",
       "<table border=\"1\" class=\"dataframe\">\n",
       "  <thead>\n",
       "    <tr style=\"text-align: right;\">\n",
       "      <th></th>\n",
       "      <th>Year</th>\n",
       "      <th>City</th>\n",
       "      <th>Population (in Lakhs) (2011)+</th>\n",
       "      <th>Type</th>\n",
       "      <th>Crime Rate</th>\n",
       "    </tr>\n",
       "  </thead>\n",
       "  <tbody>\n",
       "    <tr>\n",
       "      <th>0</th>\n",
       "      <td>2014</td>\n",
       "      <td>0</td>\n",
       "      <td>63.5</td>\n",
       "      <td>9</td>\n",
       "      <td>1.291339</td>\n",
       "    </tr>\n",
       "    <tr>\n",
       "      <th>1</th>\n",
       "      <td>2015</td>\n",
       "      <td>0</td>\n",
       "      <td>63.5</td>\n",
       "      <td>9</td>\n",
       "      <td>1.480315</td>\n",
       "    </tr>\n",
       "    <tr>\n",
       "      <th>2</th>\n",
       "      <td>2016</td>\n",
       "      <td>0</td>\n",
       "      <td>63.5</td>\n",
       "      <td>9</td>\n",
       "      <td>1.622047</td>\n",
       "    </tr>\n",
       "    <tr>\n",
       "      <th>3</th>\n",
       "      <td>2017</td>\n",
       "      <td>0</td>\n",
       "      <td>63.5</td>\n",
       "      <td>9</td>\n",
       "      <td>1.417323</td>\n",
       "    </tr>\n",
       "    <tr>\n",
       "      <th>4</th>\n",
       "      <td>2018</td>\n",
       "      <td>0</td>\n",
       "      <td>63.5</td>\n",
       "      <td>9</td>\n",
       "      <td>1.543307</td>\n",
       "    </tr>\n",
       "    <tr>\n",
       "      <th>...</th>\n",
       "      <td>...</td>\n",
       "      <td>...</td>\n",
       "      <td>...</td>\n",
       "      <td>...</td>\n",
       "      <td>...</td>\n",
       "    </tr>\n",
       "    <tr>\n",
       "      <th>1515</th>\n",
       "      <td>2017</td>\n",
       "      <td>18</td>\n",
       "      <td>45.8</td>\n",
       "      <td>6</td>\n",
       "      <td>2.292576</td>\n",
       "    </tr>\n",
       "    <tr>\n",
       "      <th>1516</th>\n",
       "      <td>2018</td>\n",
       "      <td>18</td>\n",
       "      <td>45.8</td>\n",
       "      <td>6</td>\n",
       "      <td>3.384279</td>\n",
       "    </tr>\n",
       "    <tr>\n",
       "      <th>1517</th>\n",
       "      <td>2019</td>\n",
       "      <td>18</td>\n",
       "      <td>45.8</td>\n",
       "      <td>6</td>\n",
       "      <td>4.978166</td>\n",
       "    </tr>\n",
       "    <tr>\n",
       "      <th>1518</th>\n",
       "      <td>2020</td>\n",
       "      <td>18</td>\n",
       "      <td>45.8</td>\n",
       "      <td>6</td>\n",
       "      <td>4.454148</td>\n",
       "    </tr>\n",
       "    <tr>\n",
       "      <th>1519</th>\n",
       "      <td>2021</td>\n",
       "      <td>18</td>\n",
       "      <td>45.8</td>\n",
       "      <td>6</td>\n",
       "      <td>6.462882</td>\n",
       "    </tr>\n",
       "  </tbody>\n",
       "</table>\n",
       "<p>1520 rows × 5 columns</p>\n",
       "</div>"
      ],
      "text/plain": [
       "      Year  City  Population (in Lakhs) (2011)+  Type  Crime Rate\n",
       "0     2014     0                           63.5     9    1.291339\n",
       "1     2015     0                           63.5     9    1.480315\n",
       "2     2016     0                           63.5     9    1.622047\n",
       "3     2017     0                           63.5     9    1.417323\n",
       "4     2018     0                           63.5     9    1.543307\n",
       "...    ...   ...                            ...   ...         ...\n",
       "1515  2017    18                           45.8     6    2.292576\n",
       "1516  2018    18                           45.8     6    3.384279\n",
       "1517  2019    18                           45.8     6    4.978166\n",
       "1518  2020    18                           45.8     6    4.454148\n",
       "1519  2021    18                           45.8     6    6.462882\n",
       "\n",
       "[1520 rows x 5 columns]"
      ]
     },
     "execution_count": 15,
     "metadata": {},
     "output_type": "execute_result"
    }
   ],
   "source": [
    "# Display the fully encoded dataset.\n",
    "new_dataset"
   ]
  },
  {
   "cell_type": "markdown",
   "metadata": {},
   "source": [
    " Splitting the dataset into independent variables (x) and dependent variable (y)\n"
   ]
  },
  {
   "cell_type": "code",
   "execution_count": 16,
   "metadata": {},
   "outputs": [
    {
     "data": {
      "text/plain": [
       "array([[2014. ,    0. ,   63.5,    9. ],\n",
       "       [2015. ,    0. ,   63.5,    9. ],\n",
       "       [2016. ,    0. ,   63.5,    9. ],\n",
       "       ...,\n",
       "       [2019. ,   18. ,   45.8,    6. ],\n",
       "       [2020. ,   18. ,   45.8,    6. ],\n",
       "       [2021. ,   18. ,   45.8,    6. ]], shape=(1520, 4))"
      ]
     },
     "execution_count": 16,
     "metadata": {},
     "output_type": "execute_result"
    }
   ],
   "source": [
    "x = new_dataset[new_dataset.columns[0:4]].values\n",
    "x"
   ]
  },
  {
   "cell_type": "code",
   "execution_count": 17,
   "metadata": {},
   "outputs": [
    {
     "data": {
      "text/plain": [
       "array([1.29133858, 1.48031496, 1.62204724, ..., 4.97816594, 4.45414847,\n",
       "       6.4628821 ], shape=(1520,))"
      ]
     },
     "execution_count": 17,
     "metadata": {},
     "output_type": "execute_result"
    }
   ],
   "source": [
    "y = new_dataset['Crime Rate'].values\n",
    "y"
   ]
  },
  {
   "cell_type": "markdown",
   "metadata": {},
   "source": [
    "Splitting the data into training and testing sets"
   ]
  },
  {
   "cell_type": "code",
   "execution_count": 18,
   "metadata": {},
   "outputs": [],
   "source": [
    "x_train, x_test, y_train, y_test = train_test_split(x, y, test_size=0.20, random_state=42)"
   ]
  },
  {
   "cell_type": "code",
   "execution_count": 19,
   "metadata": {},
   "outputs": [
    {
     "data": {
      "text/plain": [
       "array([[2.021e+03, 6.000e+00, 7.750e+01, 6.000e+00],\n",
       "       [2.017e+03, 2.000e+00, 8.700e+01, 2.000e+00],\n",
       "       [2.017e+03, 8.000e+00, 3.070e+01, 6.000e+00],\n",
       "       ...,\n",
       "       [2.018e+03, 1.200e+01, 2.030e+01, 3.000e+00],\n",
       "       [2.017e+03, 1.100e+01, 1.411e+02, 6.000e+00],\n",
       "       [2.020e+03, 7.000e+00, 2.170e+01, 2.000e+00]], shape=(1216, 4))"
      ]
     },
     "execution_count": 19,
     "metadata": {},
     "output_type": "execute_result"
    }
   ],
   "source": [
    "x_train"
   ]
  },
  {
   "cell_type": "code",
   "execution_count": 20,
   "metadata": {},
   "outputs": [
    {
     "data": {
      "text/plain": [
       "array([42.61935484,  0.        , 22.31270358, ...,  1.8226601 ,\n",
       "        1.38908575,  0.55299539], shape=(1216,))"
      ]
     },
     "execution_count": 20,
     "metadata": {},
     "output_type": "execute_result"
    }
   ],
   "source": [
    "y_train"
   ]
  },
  {
   "cell_type": "markdown",
   "metadata": {},
   "source": [
    "### Support Vector Regression (SVR) Model"
   ]
  },
  {
   "cell_type": "code",
   "execution_count": 21,
   "metadata": {},
   "outputs": [],
   "source": [
    "model1 = svm.SVR()\n",
    "model1.fit(x_train, y_train)\n",
    "y_pred = model1.predict(x_test)"
   ]
  },
  {
   "cell_type": "markdown",
   "metadata": {},
   "source": [
    "Evaluating the model"
   ]
  },
  {
   "cell_type": "code",
   "execution_count": 22,
   "metadata": {},
   "outputs": [
    {
     "name": "stdout",
     "output_type": "stream",
     "text": [
      "Mean Absolute Error: 10.302191215190474\n",
      "Mean Squared Error: 386.2485121714839\n",
      "R2 score: -0.1630834094979734\n"
     ]
    }
   ],
   "source": [
    "print('Mean Absolute Error:', metrics.mean_absolute_error(y_test, y_pred))\n",
    "print('Mean Squared Error:', metrics.mean_squared_error(y_test, y_pred))\n",
    "print('R2 score:', metrics.r2_score(y_test, y_pred))"
   ]
  },
  {
   "cell_type": "markdown",
   "metadata": {},
   "source": [
    "### K-Nearest Neighbors Regression (KNN)"
   ]
  },
  {
   "cell_type": "code",
   "execution_count": 23,
   "metadata": {},
   "outputs": [],
   "source": [
    "model2 = KNeighborsRegressor(n_neighbors=2)\n",
    "model2.fit(x_train, y_train)\n",
    "y_pred = model2.predict(x_test)"
   ]
  },
  {
   "cell_type": "markdown",
   "metadata": {},
   "source": [
    "Evaluating the model"
   ]
  },
  {
   "cell_type": "code",
   "execution_count": 24,
   "metadata": {},
   "outputs": [
    {
     "name": "stdout",
     "output_type": "stream",
     "text": [
      "Mean Absolute Error: 7.0969358505240265\n",
      "Mean Squared Error: 169.5309819743379\n",
      "R2 score: 0.4895030885123245\n"
     ]
    }
   ],
   "source": [
    "print('Mean Absolute Error:', metrics.mean_absolute_error(y_test, y_pred))\n",
    "print('Mean Squared Error:', metrics.mean_squared_error(y_test, y_pred))\n",
    "print('R2 score:', metrics.r2_score(y_test, y_pred))"
   ]
  },
  {
   "cell_type": "markdown",
   "metadata": {},
   "source": [
    "### Decision Tree Regressor"
   ]
  },
  {
   "cell_type": "code",
   "execution_count": 25,
   "metadata": {},
   "outputs": [],
   "source": [
    "model3 = tree.DecisionTreeRegressor()\n",
    "model3.fit(x_train, y_train)\n",
    "y_pred = model3.predict(x_test)"
   ]
  },
  {
   "cell_type": "markdown",
   "metadata": {},
   "source": [
    "Evaluating the model"
   ]
  },
  {
   "cell_type": "code",
   "execution_count": 26,
   "metadata": {},
   "outputs": [
    {
     "name": "stdout",
     "output_type": "stream",
     "text": [
      "Mean Absolute Error: 2.969108720439037\n",
      "Mean Squared Error: 43.94753249625547\n",
      "R2 score: 0.8676638373377752\n"
     ]
    }
   ],
   "source": [
    "print('Mean Absolute Error:', metrics.mean_absolute_error(y_test, y_pred))\n",
    "print('Mean Squared Error:', metrics.mean_squared_error(y_test, y_pred))\n",
    "print('R2 score:', metrics.r2_score(y_test, y_pred))"
   ]
  },
  {
   "cell_type": "markdown",
   "metadata": {},
   "source": [
    "### Random Forest Regressor"
   ]
  },
  {
   "cell_type": "code",
   "execution_count": 27,
   "metadata": {},
   "outputs": [],
   "source": [
    "model4 = RandomForestRegressor(random_state=0)\n",
    "model4.fit(x_train, y_train)\n",
    "y_pred = model4.predict(x_test)"
   ]
  },
  {
   "cell_type": "markdown",
   "metadata": {},
   "source": [
    "Evaluating the model"
   ]
  },
  {
   "cell_type": "code",
   "execution_count": 28,
   "metadata": {},
   "outputs": [
    {
     "name": "stdout",
     "output_type": "stream",
     "text": [
      "Mean Absolute Error: 2.168007423904296\n",
      "Mean Squared Error: 18.72034360488668\n",
      "R2 score: 0.9436287250802965\n"
     ]
    }
   ],
   "source": [
    "print('Mean Absolute Error:', metrics.mean_absolute_error(y_test, y_pred))\n",
    "print('Mean Squared Error:', metrics.mean_squared_error(y_test, y_pred))\n",
    "print('R2 score:', metrics.r2_score(y_test, y_pred))"
   ]
  },
  {
   "cell_type": "markdown",
   "metadata": {},
   "source": [
    "\n",
    "### Model Comparison and Finalizing the Best Model\n",
    "After training and evaluating multiple regression models, we compared their performance based on the following metrics:\n",
    "\n",
    "- **Mean Absolute Error (MAE)**: Measures the average magnitude of errors in a set of predictions, without considering their direction.\n",
    "- **Mean Squared Error (MSE)**: Indicates the average squared difference between actual and predicted values. Smaller values are better.\n",
    "- **R² Score**: Represents the proportion of variance explained by the model. A higher R² score indicates better performance."
   ]
  },
  {
   "cell_type": "markdown",
   "metadata": {},
   "source": [
    "### Model Performance Summary:\n",
    "\n",
    "| Model                      | Mean Absolute Error (MAE) | Mean Squared Error (MSE) | R² Score  |\n",
    "|----------------------------|---------------------------|---------------------------|-----------|\n",
    "| Support Vector Regressor   | 10.30                    | 386.25                   | -0.16     |\n",
    "| K-Nearest Neighbors        | 7.10                     | 169.53                   | 0.49      |\n",
    "| Decision Tree Regressor    | 2.97                     | 43.95                    | 0.87      |\n",
    "| **Random Forest Regressor**| **2.17**                 | **18.72**                | **0.94**  |\n",
    "\n",
    "From the table above, the **Random Forest Regressor** outperformed all other models with:\n",
    "\n",
    "- The lowest Mean Absolute Error (2.17)\n",
    "- The lowest Mean Squared Error (18.72)\n",
    "- The highest R² Score (0.94)\n",
    "\n",
    "#### Finalizing the Model\n",
    "\n",
    "Given its superior performance, the **Random Forest Regressor** was chosen as the final model for this task. It was saved as a `.pkl` file for future use. This allows the model to be reloaded and applied to make predictions without retraining."
   ]
  },
  {
   "cell_type": "code",
   "execution_count": 31,
   "metadata": {},
   "outputs": [],
   "source": [
    "import pickle"
   ]
  },
  {
   "cell_type": "code",
   "execution_count": 32,
   "metadata": {},
   "outputs": [],
   "source": [
    "#saving the model as .pkl file\n",
    "pkl_filename = \"Model/model.pkl\"\n",
    "with open(pkl_filename, 'wb') as file:\n",
    "    pickle.dump(model4, file)\n"
   ]
  },
  {
   "cell_type": "code",
   "execution_count": 33,
   "metadata": {},
   "outputs": [
    {
     "name": "stdout",
     "output_type": "stream",
     "text": [
      "0.9436287250802965\n"
     ]
    }
   ],
   "source": [
    "#checking the saved model accuracy\n",
    "with open(pkl_filename, 'rb') as file:\n",
    "    pickle_model = pickle.load(file)\n",
    "score = pickle_model.score(x_test, y_test)\n",
    "print(score)"
   ]
  }
 ],
 "metadata": {
  "kernelspec": {
   "display_name": "venv",
   "language": "python",
   "name": "python3"
  },
  "language_info": {
   "codemirror_mode": {
    "name": "ipython",
    "version": 3
   },
   "file_extension": ".py",
   "mimetype": "text/x-python",
   "name": "python",
   "nbconvert_exporter": "python",
   "pygments_lexer": "ipython3",
   "version": "3.10.7"
  }
 },
 "nbformat": 4,
 "nbformat_minor": 2
}
